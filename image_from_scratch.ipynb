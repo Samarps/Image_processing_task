{
 "cells": [
  {
   "cell_type": "code",
   "execution_count": 1,
   "metadata": {},
   "outputs": [],
   "source": [
    "import cv2\n",
    "import numpy as np"
   ]
  },
  {
   "cell_type": "code",
   "execution_count": 2,
   "metadata": {},
   "outputs": [],
   "source": [
    "image = np.zeros((600,500,3))"
   ]
  },
  {
   "cell_type": "code",
   "execution_count": 3,
   "metadata": {},
   "outputs": [],
   "source": [
    "image = image.astype(np.uint8)"
   ]
  },
  {
   "cell_type": "code",
   "execution_count": 4,
   "metadata": {},
   "outputs": [],
   "source": [
    "# stem\n",
    "# secondary branch\n",
    "image = cv2.circle(image, (500, 650), 250, (0,255,0), -1)\n",
    "image = cv2.circle(image, (510, 660), 250, (0,0,0), -1)\n",
    "# main branch\n",
    "image = cv2.circle(image, (0, 500), 350, (0,255,0), -1)\n",
    "image = cv2.circle(image, (-20, 500), 350, (0,0,0), -1)\n",
    "image = cv2.circle(image, (0, 100), 300, (0,0,0), -1)"
   ]
  },
  {
   "cell_type": "code",
   "execution_count": 5,
   "metadata": {},
   "outputs": [],
   "source": [
    "cv2.imshow(\"my photo\", image)\n",
    "cv2.waitKey()\n",
    "cv2.destroyAllWindows()"
   ]
  },
  {
   "cell_type": "code",
   "execution_count": 6,
   "metadata": {},
   "outputs": [],
   "source": [
    "# petals\n",
    "# most back petals\n",
    "# back petals\n",
    "image = cv2.circle(image, (250,200), 60, (0,0,255), -1)\n",
    "image = cv2.circle(image, (180,270), 60, (0,0,255), -1)\n",
    "image = cv2.circle(image, (250,340), 60, (0,0,255), -1)\n",
    "image = cv2.circle(image, (320,270), 60, (0,0,255), -1)\n",
    "# front petals\n",
    "image = cv2.circle(image, (200,220), 60, (0,0,255), -1)\n",
    "image = cv2.circle(image, (300,220), 60, (0,0,255), -1)\n",
    "image = cv2.circle(image, (200,320), 60, (0,0,255), -1)\n",
    "image = cv2.circle(image, (300,320), 60, (0,0,255), -1)\n",
    "\n",
    "# little front petals\n",
    "# back petals\n",
    "image = cv2.circle(image, (250,200), 40, (255,0,150), -1)\n",
    "image = cv2.circle(image, (180,270), 40, (255,0,150), -1)\n",
    "image = cv2.circle(image, (250,340), 40, (255,0,150), -1)\n",
    "image = cv2.circle(image, (320,270), 40, (255,0,150), -1)\n",
    "# front petals\n",
    "image = cv2.circle(image, (200,220), 40, (255,0,150), -1)\n",
    "image = cv2.circle(image, (300,220), 40, (255,0,150), -1)\n",
    "image = cv2.circle(image, (200,320), 40, (255,0,150), -1)\n",
    "image = cv2.circle(image, (300,320), 40, (255,0,150), -1)"
   ]
  },
  {
   "cell_type": "code",
   "execution_count": 7,
   "metadata": {},
   "outputs": [],
   "source": [
    "cv2.imshow(\"my photo\", image)\n",
    "cv2.waitKey()\n",
    "cv2.destroyAllWindows()"
   ]
  },
  {
   "cell_type": "code",
   "execution_count": 8,
   "metadata": {},
   "outputs": [],
   "source": [
    "# stigma\n",
    "image = cv2.circle(image, (250,270), 50, (255,0,150), -1)\n",
    "image = cv2.circle(image, (250,270), 40, (255,255,255), -1)\n",
    "image = cv2.circle(image, (250,270), 30, (255,0,150), -1)\n",
    "image = cv2.circle(image, (250,270), 20, (255,255,255), -1)\n",
    "image = cv2.circle(image, (250,270), 10, (255,0,150), -1)"
   ]
  },
  {
   "cell_type": "code",
   "execution_count": 9,
   "metadata": {},
   "outputs": [],
   "source": [
    "cv2.imshow(\"my photo\", image)\n",
    "cv2.waitKey()\n",
    "cv2.destroyAllWindows()"
   ]
  },
  {
   "cell_type": "code",
   "execution_count": 10,
   "metadata": {},
   "outputs": [],
   "source": [
    "# flower design\n",
    "# front petals\n",
    "image = cv2.circle(image, (300,220), 25, (0,255,255), -1)\n",
    "image = cv2.circle(image, (300,320), 25, (0,255,255), -1)\n",
    "image = cv2.circle(image, (200,320), 25, (0,255,255), -1)\n",
    "image = cv2.circle(image, (200,220), 25, (0,255,255), -1)\n",
    "# back petals\n",
    "image = cv2.circle(image, (250,200), 25, (0,255,255), -1)\n",
    "image = cv2.circle(image, (320,270), 25, (0,255,255), -1)\n",
    "image = cv2.circle(image, (250,340), 25, (0,255,255), -1)\n",
    "image = cv2.circle(image, (180,270), 25, (0,255,255), -1)\n",
    "\n",
    "# very front design\n",
    "# front petals\n",
    "image = cv2.circle(image, (300,220), 15, (255,255,255), -1)\n",
    "image = cv2.circle(image, (300,320), 15, (255,255,255), -1)\n",
    "image = cv2.circle(image, (200,320), 15, (255,255,255), -1)\n",
    "image = cv2.circle(image, (200,220), 15, (255,255,255), -1)\n",
    "# back petals\n",
    "image = cv2.circle(image, (250,200), 15, (255,255,255), -1)\n",
    "image = cv2.circle(image, (320,270), 15, (255,255,255), -1)\n",
    "image = cv2.circle(image, (250,340), 15, (255,255,255), -1)\n",
    "image = cv2.circle(image, (180,270), 15, (255,255,255), -1)"
   ]
  },
  {
   "cell_type": "code",
   "execution_count": 11,
   "metadata": {},
   "outputs": [],
   "source": [
    "cv2.imshow(\"my photo\", image)\n",
    "cv2.waitKey()\n",
    "cv2.destroyAllWindows()"
   ]
  },
  {
   "cell_type": "code",
   "execution_count": null,
   "metadata": {},
   "outputs": [],
   "source": []
  }
 ],
 "metadata": {
  "kernelspec": {
   "display_name": "Python 3",
   "language": "python",
   "name": "python3"
  },
  "language_info": {
   "codemirror_mode": {
    "name": "ipython",
    "version": 3
   },
   "file_extension": ".py",
   "mimetype": "text/x-python",
   "name": "python",
   "nbconvert_exporter": "python",
   "pygments_lexer": "ipython3",
   "version": "3.8.3"
  }
 },
 "nbformat": 4,
 "nbformat_minor": 4
}
